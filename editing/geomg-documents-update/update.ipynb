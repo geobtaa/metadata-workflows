{
 "cells": [
  {
   "cell_type": "markdown",
   "metadata": {},
   "source": [
    "# Update records on GEOMG via script\n",
    "\n",
    "The `update.ipynb` is a script aims to modify fields' values on GEOMG via python. We used to **download CSV files -> modify values locally -> upload again** to modify a large number of datasets, or **open each dataset page -> modify values -> update and open next data page** to modify datasets one by one. However, this script offers you a third method for GEOMG document updates.\n",
    "\n",
    "\n",
    "\n",
    "\n",
    "> Originally created by **Gene Cheng [(@Ziiiiing)](https://github.com/Ziiiiing)** on **Oct 3, 2021**\n",
    "\n",
    "> Updated by **Gene Cheng [(@Ziiiiing)](https://github.com/Ziiiiing)** on **Oct 24, 2021**"
   ]
  },
  {
   "cell_type": "code",
   "execution_count": null,
   "metadata": {},
   "outputs": [],
   "source": [
    "# uncomment & run this cell if the 'mechanize' module is not installed yet\n",
    "\n",
    "# pip install mechanize"
   ]
  },
  {
   "cell_type": "code",
   "execution_count": null,
   "metadata": {},
   "outputs": [],
   "source": [
    "import mechanize\n",
    "import time\n",
    "import csv"
   ]
  },
  {
   "cell_type": "markdown",
   "metadata": {},
   "source": [
    "## Step 1: Prepare a CSV File\n",
    "\n",
    "Store updated **values** with **field names** in a local CSV file under the same directory.\n",
    "- First row should be **field names** \n",
    "- First column should be **IDs** for each document. \n",
    "\n",
    "Please look at the [README.md](https://github.com/BTAA-Geospatial-Data-Project/geomg-documents-update/blob/main/README.md) for more information.\n"
   ]
  },
  {
   "cell_type": "code",
   "execution_count": null,
   "metadata": {},
   "outputs": [],
   "source": [
    "# Hello, please edit here !!\n",
    "csv_file = \"<directory of your CSV file>\""
   ]
  },
  {
   "cell_type": "code",
   "execution_count": null,
   "metadata": {},
   "outputs": [],
   "source": [
    "data = {}\n",
    "with open(csv_file, 'r') as fr:\n",
    "    reader = csv.reader(fr)\n",
    "    fields = next(reader)[1:]\n",
    "    for row in reader:\n",
    "        ID = row[0]\n",
    "        dictVal = {}\n",
    "        for i in range(len(row)-1):\n",
    "            nameAttr = fields[i]\n",
    "            newVal = row[i+1]\n",
    "            if newVal.startswith(\"[\\'\"):\n",
    "                newVal = eval(newVal)\n",
    "            dictVal[nameAttr] = newVal\n",
    "        data[ID] = dictVal\n"
   ]
  },
  {
   "cell_type": "markdown",
   "metadata": {},
   "source": [
    "## Step 2: User Login on GEOMG\n",
    "\n",
    "After preparation, we are ready for interacting with the GEOMG. First thing first, you need to modify the value of `username` and `password` to your own ones for GEOMG login. Make sure your personal information is not exposed on the internet."
   ]
  },
  {
   "cell_type": "code",
   "execution_count": null,
   "metadata": {},
   "outputs": [],
   "source": [
    "# Hello, please edit here !!\n",
    "username = \"<your_username>\"\n",
    "password = \"<your_password>\""
   ]
  },
  {
   "cell_type": "code",
   "execution_count": null,
   "metadata": {},
   "outputs": [],
   "source": [
    "# Perform login \n",
    "login_url = \"https://geomg.lib.umn.edu/users/sign_in\"\n",
    "\n",
    "br = mechanize.Browser()\n",
    "br.set_handle_robots(False)   # ignore robots\n",
    "\n",
    "# browse the Login Page and select the right form for login\n",
    "br.open(login_url)\n",
    "br.select_form(nr=1)\n",
    "\n",
    "# input and submit the username & password\n",
    "br[\"user[email]\"] = username\n",
    "br[\"user[password]\"] = password\n",
    "br.submit()\n",
    "\n",
    "# redirect if successfully logged in\n",
    "if br.geturl() ==  login_url:\n",
    "    print(\">>> Failed to login.\")\n",
    "else:\n",
    "    print('>>>> Successfully logged in.')\n"
   ]
  },
  {
   "cell_type": "markdown",
   "metadata": {},
   "source": [
    "## Step 3: Modify Web Contents Online"
   ]
  },
  {
   "cell_type": "code",
   "execution_count": null,
   "metadata": {},
   "outputs": [],
   "source": [
    "# iterate the 'modifies' dictionary and make updates\n",
    "count = 0\n",
    "nonexist = []\n",
    "failed = []\n",
    "\n",
    "for ID in data:\n",
    "    count += 1\n",
    "    item_url = \"https://geomg.lib.umn.edu/documents/{}\".format(ID)\n",
    "    modifies = data[ID]\n",
    "\n",
    "    try:\n",
    "        br.open(item_url)          # open the edit page for each record\n",
    "        br.select_form(nr=1)       # the index of the form is 1\n",
    "    \n",
    "        # iterate field&value pairs to modify\n",
    "        for field, newval in modifies.items():\n",
    "            br[field] = newval\n",
    "\n",
    "        # submit the changes for this document\n",
    "        br.submit()\n",
    "        print(\">>> [{}/{}] Updating {} .................... √\".format(count, len(data), ID))\n",
    "    \n",
    "    # skip the nonexist record with error code 404 if any error occurs\n",
    "    except mechanize.HTTPError as e:\n",
    "        # ignore the non-exist records\n",
    "        if e.code == 404:\n",
    "            print(\">>> [{}/{}] Updating {} .................... x\".format(count, len(data), ID))\n",
    "            nonexist.append(ID)\n",
    "        else:\n",
    "            print(\">>> [{}/{}] Updating {} .................... x\".format(count, len(data), ID))\n",
    "            failed.append(ID)        # store failed item and try again later\n",
    "    except:\n",
    "        print(\">>> [{}/{}] Updating {} .................... x\".format(count, len(data), ID))\n",
    "        failed.append(ID)\n",
    "\n",
    "            \n",
    "# print out the summary\n",
    "print('\\n-------------- Summary --------------')\n",
    "print('Successful Updates: {}'.format(len(data)-len(nonexist)-len(failed)))\n",
    "print('Datasets Not Exist: {}'.format(len(nonexist)))\n",
    "print('Failed Updates: {}'.format(len(failed)))\n",
    "\n",
    "if failed:\n",
    "    print('\\n-------------- Manual Edits Needed for Failed Updates --------------')\n",
    "    for ID in failed:\n",
    "        item_url = 'https://geomg.lib.umn.edu/documents/{}'.format(ID)\n",
    "        print(item_url)"
   ]
  },
  {
   "cell_type": "code",
   "execution_count": null,
   "metadata": {},
   "outputs": [],
   "source": []
  }
 ],
 "metadata": {
  "kernelspec": {
   "display_name": "Python 3",
   "language": "python",
   "name": "python3"
  },
  "language_info": {
   "codemirror_mode": {
    "name": "ipython",
    "version": 3
   },
   "file_extension": ".py",
   "mimetype": "text/x-python",
   "name": "python",
   "nbconvert_exporter": "python",
   "pygments_lexer": "ipython3",
   "version": "3.7.4"
  }
 },
 "nbformat": 4,
 "nbformat_minor": 2
}
