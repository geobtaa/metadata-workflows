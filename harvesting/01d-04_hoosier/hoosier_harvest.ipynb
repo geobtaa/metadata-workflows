{
 "cells": [
  {
   "cell_type": "markdown",
   "metadata": {},
   "source": [
    "# Hoosier Dataset Harvest Script\n",
    "\n",
    "On Hoosier Resilience Index portal, there are 17 links to datasets hosted on ArcGIS Online. The scripts aims to use Python to harvest and extract metadata information from ArcGIS Online and their ArcGIS REST API.\n",
    "\n",
    "> Originated Created by Gene Cheng ([@Ziiiiing](https://github.com/Ziiiiing)) on October 4, 2021"
   ]
  },
  {
   "cell_type": "code",
   "execution_count": 1,
   "metadata": {},
   "outputs": [],
   "source": [
    "from arcgis.gis import GIS\n",
    "from IPython.display import display\n",
    "import time\n",
    "import requests\n",
    "from pyproj import Proj, transform\n",
    "from bs4 import BeautifulSoup\n",
    "import urllib.request\n",
    "import csv"
   ]
  },
  {
   "cell_type": "markdown",
   "metadata": {},
   "source": [
    "### Request Dataset Links\n",
    "\n",
    "Request the data page on [Hoosier Resilience Index](https://hri.eri.iu.edu/about/methodology/data-links.html) and get available links for datasets."
   ]
  },
  {
   "cell_type": "code",
   "execution_count": 2,
   "metadata": {
    "scrolled": true
   },
   "outputs": [
    {
     "name": "stdout",
     "output_type": "stream",
     "text": [
      ">>> Finding availabe dataset links\n",
      "https://iu.maps.arcgis.com/home/item.html?id=6059ba25fe094331816c8b1122effd91\n",
      "https://iu.maps.arcgis.com/home/item.html?id=d8bfa31c1d9b4a9381a78bdc6bc22354\n",
      "https://iu.maps.arcgis.com/home/item.html?id=6c6692a2e9d541579317e15968223e7a\n",
      "https://iu.maps.arcgis.com/home/item.html?id=3e25928907a04b1ca79ce8f61d402ee6\n",
      "https://iu.maps.arcgis.com/home/item.html?id=2ca611c9b08a462c8d040ef2de53a1ea%20\n",
      "https://iu.maps.arcgis.com/home/item.html?id=a81b429c6b7e4e978d1370178c55b329%20\n",
      "https://iu.maps.arcgis.com/home/item.html?id=af2a7697149644508b0b5a7e2504229d%20\n",
      "https://iu.maps.arcgis.com/home/item.html?id=660f51d8a4b14cadad53400779da1a78\n",
      "https://iu.maps.arcgis.com/home/item.html?id=8174448c2d6748e6adc972ba9edf871d\n",
      "https://iu.maps.arcgis.com/home/item.html?id=f6c9968878f440fbbe56193c2edc9959\n",
      "https://iu.maps.arcgis.com/home/item.html?id=d46dc07fbff345818649bae861accada\n",
      "https://iu.maps.arcgis.com/home/item.html?id=d8f1bdef5f3147489e835c07a18113f6\n",
      "https://iu.maps.arcgis.com/home/item.html?id=d997537cb53f4ae39618593e19cbbe70\n",
      "https://iu.maps.arcgis.com/home/item.html?id=9133a5b3466947b795078b37cd0fcb67\n",
      "https://iu.maps.arcgis.com/home/item.html?id=12afb1698202496785d3f0dcf149a5d2\n",
      "https://iu.maps.arcgis.com/home/item.html?id=496e9733ff2b447187cc75d216a89df7\n",
      "https://iu.maps.arcgis.com/home/item.html?id=d65d6a009ea54ddb80729367ee40e561\n"
     ]
    }
   ],
   "source": [
    "hoosier = 'https://hri.eri.iu.edu/about/methodology/data-links.html'\n",
    "page = urllib.request.urlopen(hoosier).read()\n",
    "soup = BeautifulSoup(page, 'html.parser')\n",
    "\n",
    "dataset_urls = []\n",
    "print('>>> Finding availabe dataset links')\n",
    "\n",
    "h3_tag = soup.find('h3', text='Hoosier Resilience Index Data Links')\n",
    "for tag in h3_tag.find_next_siblings():\n",
    "    a_tags = tag.find_all('a', href=True)\n",
    "    if a_tags:\n",
    "        for a_tag in a_tags:\n",
    "            href = a_tag['href']\n",
    "            print(href)\n",
    "            dataset_urls.append(href)"
   ]
  },
  {
   "cell_type": "markdown",
   "metadata": {},
   "source": [
    "### Metadata Construction\n",
    "\n",
    "Reqest web contents and "
   ]
  },
  {
   "cell_type": "code",
   "execution_count": 3,
   "metadata": {},
   "outputs": [],
   "source": [
    "# transform coordinates from projected coordinates to geographic coordinates\n",
    "def convert_coords(extent):\n",
    "    # spatial reference\n",
    "    wkid = extent['spatialReference']['latestWkid']\n",
    "    inProj = Proj(init='epsg:{}'.format(wkid))\n",
    "    outProj = Proj(init='epsg:4326')   # WGS84\n",
    "    \n",
    "    x1 = extent['xmin']\n",
    "    y1 = extent['ymin']\n",
    "    x2 = extent['xmax']\n",
    "    y2 = extent['ymax']\n",
    "    \n",
    "    xmin, ymin = transform(inProj, outProj, x1, y1)\n",
    "    xmax, ymax = transform(inProj, outProj, x2, y2)\n",
    "    \n",
    "    return '{},{},{},{}'.format(round(xmin,4),round(ymin,4),round(xmax,4),round(ymax,4))"
   ]
  },
  {
   "cell_type": "code",
   "execution_count": 4,
   "metadata": {},
   "outputs": [],
   "source": [
    "# convert file size from integer in bytes to a human readable string\n",
    "def convert_bytes(size):\n",
    "    for x in ['bytes', 'KB', 'MB', 'GB', 'TB']:\n",
    "        if size < 1024.0:\n",
    "            return \"%3.1f %s\" % (size, x)\n",
    "        size /= 1024.0\n",
    "\n",
    "    return size"
   ]
  },
  {
   "cell_type": "code",
   "execution_count": 5,
   "metadata": {},
   "outputs": [],
   "source": [
    "def construct_metadata(link):\n",
    "    # parse item id from the link\n",
    "    idElement = link.split('=')[-1]\n",
    "    \n",
    "    # access content on ArcGIS Online\n",
    "    gis = GIS()\n",
    "    content = gis.content.get(idElement)\n",
    "    display(content)\n",
    "    \n",
    "    # extract values from arcgis online\n",
    "    alternativeTitle = content.title\n",
    "    description = content.snippet\n",
    "    creator = content.owner\n",
    "    keyword = '|'.join(content.tags)\n",
    "    dateIssued = time.strftime('%Y-%m-%d',time.localtime(content.created/1000))\n",
    "\n",
    "    information = 'https://iu.maps.arcgis.com/home/item.html?id='+content.id\n",
    "    downloadURL = \"\"\n",
    "    mapServer = 'https://iu.maps.arcgis.com/apps/mapviewer/index.html?layers={}'.format(content.id)           \n",
    "    featureServer = content.url \n",
    "    imageServer = 'https://iu.maps.arcgis.com/sharing/rest/content/items/{}/info/thumbnail/thumbnail.png'.format(content.id)       \n",
    "\n",
    "    idElement = content.id\n",
    "    identifier = information\n",
    "    fileSize = convert_bytes(content.size)\n",
    "\n",
    "    \n",
    "    # extract spatial values from ArcGIS REST API\n",
    "    q = content.url + '?f=pjson'\n",
    "    response = requests.get(q)\n",
    "    data = response.json()\n",
    "    \n",
    "    extent = data['fullExtent']\n",
    "    bbox = convert_coords(extent)\n",
    "    spatialCoverage = \"Indiana State\"\n",
    "    \n",
    "    \n",
    "    # empty fields to be manually edit later\n",
    "    title = \"\"\n",
    "    isoTopCat = \"\"\n",
    "    temporalCoverage = \"\"\n",
    "    dateRange = \"\"\n",
    "    \n",
    "    # fields with hard-coded value\n",
    "    language = \"eng\"\n",
    "    titleSource = \"State of Indiana\"        # called Publisher before\n",
    "    resourceClass = \"Datasets\"\n",
    "    provider = \"Indiana University\"\n",
    "\n",
    "    resourceType = \"Vector data\"           # feature layers on ArcGIS Online\n",
    "    formatElement = \"Shapefile\"             \n",
    "\n",
    "    code = \"01d-04\"     \n",
    "    memberOf = \"01d-04\"\n",
    "\n",
    "    status = \"Active\"\n",
    "    accrualMethod = \"Hoosier Resilience Index\"      \n",
    "    dateAccessioned = time.strftime(\"%Y-%m-%d\")\n",
    "    rights = \"\"\n",
    "    accessRights = \"Public\"\n",
    "    suppressed = \"FALSE\"\n",
    "    child = \"FALSE\"\n",
    "    \n",
    "    metadata = [title, alternativeTitle, description, language, creator, titleSource,\n",
    "            resourceClass, isoTopCat, keyword, dateIssued, temporalCoverage,\n",
    "            dateRange, spatialCoverage, bbox, resourceType,\n",
    "            formatElement, information, downloadURL, mapServer, featureServer,\n",
    "            imageServer, idElement, identifier, provider, code, memberOf, status,\n",
    "            accrualMethod, dateAccessioned, rights, accessRights, suppressed, child, fileSize]\n",
    "    \n",
    "    return metadata"
   ]
  },
  {
   "cell_type": "code",
   "execution_count": 6,
   "metadata": {
    "scrolled": false
   },
   "outputs": [
    {
     "data": {
      "text/html": [
       "<div class=\"item_container\" style=\"height: auto; overflow: hidden; border: 1px solid #cfcfcf; border-radius: 2px; background: #f6fafa; line-height: 1.21429em; padding: 10px;\">\n",
       "                    <div class=\"item_left\" style=\"width: 210px; float: left;\">\n",
       "                       <a href='https://www.arcgis.com/home/item.html?id=6059ba25fe094331816c8b1122effd91' target='_blank'>\n",
       "                        <img src='https://www.arcgis.com/sharing/rest//content/items/6059ba25fe094331816c8b1122effd91/info/thumbnail/thumbnail.png' class=\"itemThumbnail\">\n",
       "                       </a>\n",
       "                    </div>\n",
       "\n",
       "                    <div class=\"item_right\"     style=\"float: none; width: auto; overflow: hidden;\">\n",
       "                        <a href='https://www.arcgis.com/home/item.html?id=6059ba25fe094331816c8b1122effd91' target='_blank'><b>Table_Data_City_County</b>\n",
       "                        </a>\n",
       "                        <br/>Jurisdictional boundaries of counties and incorporated areas in Indiana as of the 2010 United States Census.<img src='https://www.arcgis.com/home/js/jsapi/esri/css/images/item_type_icons/featureshosted16.png' style=\"vertical-align:middle;\">Feature Layer Collection by eridata_IU\n",
       "                        <br/>Last Modified: August 24, 2021\n",
       "                        <br/>0 comments, 234 views\n",
       "                    </div>\n",
       "                </div>\n",
       "                "
      ],
      "text/plain": [
       "<Item title:\"Table_Data_City_County\" type:Feature Layer Collection owner:eridata_IU>"
      ]
     },
     "metadata": {},
     "output_type": "display_data"
    },
    {
     "data": {
      "text/html": [
       "<div class=\"item_container\" style=\"height: auto; overflow: hidden; border: 1px solid #cfcfcf; border-radius: 2px; background: #f6fafa; line-height: 1.21429em; padding: 10px;\">\n",
       "                    <div class=\"item_left\" style=\"width: 210px; float: left;\">\n",
       "                       <a href='https://www.arcgis.com/home/item.html?id=d8bfa31c1d9b4a9381a78bdc6bc22354' target='_blank'>\n",
       "                        <img src='https://www.arcgis.com/sharing/rest//content/items/d8bfa31c1d9b4a9381a78bdc6bc22354/info/thumbnail/thumbnail.png' class=\"itemThumbnail\">\n",
       "                       </a>\n",
       "                    </div>\n",
       "\n",
       "                    <div class=\"item_right\"     style=\"float: none; width: auto; overflow: hidden;\">\n",
       "                        <a href='https://www.arcgis.com/home/item.html?id=d8bfa31c1d9b4a9381a78bdc6bc22354' target='_blank'><b>Heat_Current</b>\n",
       "                        </a>\n",
       "                        <br/>Total observed annual average number of hot days and uncomfortable nights per Indiana county for years 1971 - 2000.<img src='https://www.arcgis.com/home/js/jsapi/esri/css/images/item_type_icons/featureshosted16.png' style=\"vertical-align:middle;\">Feature Layer Collection by eridata_IU\n",
       "                        <br/>Last Modified: August 24, 2021\n",
       "                        <br/>0 comments, 163 views\n",
       "                    </div>\n",
       "                </div>\n",
       "                "
      ],
      "text/plain": [
       "<Item title:\"Heat_Current\" type:Feature Layer Collection owner:eridata_IU>"
      ]
     },
     "metadata": {},
     "output_type": "display_data"
    },
    {
     "data": {
      "text/html": [
       "<div class=\"item_container\" style=\"height: auto; overflow: hidden; border: 1px solid #cfcfcf; border-radius: 2px; background: #f6fafa; line-height: 1.21429em; padding: 10px;\">\n",
       "                    <div class=\"item_left\" style=\"width: 210px; float: left;\">\n",
       "                       <a href='https://www.arcgis.com/home/item.html?id=6c6692a2e9d541579317e15968223e7a' target='_blank'>\n",
       "                        <img src='https://www.arcgis.com/sharing/rest//content/items/6c6692a2e9d541579317e15968223e7a/info/thumbnail/thumbnail.png' class=\"itemThumbnail\">\n",
       "                       </a>\n",
       "                    </div>\n",
       "\n",
       "                    <div class=\"item_right\"     style=\"float: none; width: auto; overflow: hidden;\">\n",
       "                        <a href='https://www.arcgis.com/home/item.html?id=6c6692a2e9d541579317e15968223e7a' target='_blank'><b>Heat_RCP45</b>\n",
       "                        </a>\n",
       "                        <br/>Total projected annual average number of hot days and uncomfortable nights per Indiana county for year 2050, medium emissions scenario (RCP 4.5)<img src='https://www.arcgis.com/home/js/jsapi/esri/css/images/item_type_icons/featureshosted16.png' style=\"vertical-align:middle;\">Feature Layer Collection by eridata_IU\n",
       "                        <br/>Last Modified: August 24, 2021\n",
       "                        <br/>0 comments, 64 views\n",
       "                    </div>\n",
       "                </div>\n",
       "                "
      ],
      "text/plain": [
       "<Item title:\"Heat_RCP45\" type:Feature Layer Collection owner:eridata_IU>"
      ]
     },
     "metadata": {},
     "output_type": "display_data"
    },
    {
     "data": {
      "text/html": [
       "<div class=\"item_container\" style=\"height: auto; overflow: hidden; border: 1px solid #cfcfcf; border-radius: 2px; background: #f6fafa; line-height: 1.21429em; padding: 10px;\">\n",
       "                    <div class=\"item_left\" style=\"width: 210px; float: left;\">\n",
       "                       <a href='https://www.arcgis.com/home/item.html?id=3e25928907a04b1ca79ce8f61d402ee6' target='_blank'>\n",
       "                        <img src='https://www.arcgis.com/sharing/rest//content/items/3e25928907a04b1ca79ce8f61d402ee6/info/thumbnail/thumbnail.png' class=\"itemThumbnail\">\n",
       "                       </a>\n",
       "                    </div>\n",
       "\n",
       "                    <div class=\"item_right\"     style=\"float: none; width: auto; overflow: hidden;\">\n",
       "                        <a href='https://www.arcgis.com/home/item.html?id=3e25928907a04b1ca79ce8f61d402ee6' target='_blank'><b>Heat_RCP85</b>\n",
       "                        </a>\n",
       "                        <br/>Total projected annual average number of hot days and uncomfortable nights per Indiana county for year 2050, high emissions scenario (RCP 8.5)<img src='https://www.arcgis.com/home/js/jsapi/esri/css/images/item_type_icons/featureshosted16.png' style=\"vertical-align:middle;\">Feature Layer Collection by eridata_IU\n",
       "                        <br/>Last Modified: August 24, 2021\n",
       "                        <br/>0 comments, 75 views\n",
       "                    </div>\n",
       "                </div>\n",
       "                "
      ],
      "text/plain": [
       "<Item title:\"Heat_RCP85\" type:Feature Layer Collection owner:eridata_IU>"
      ]
     },
     "metadata": {},
     "output_type": "display_data"
    },
    {
     "data": {
      "text/html": [
       "<div class=\"item_container\" style=\"height: auto; overflow: hidden; border: 1px solid #cfcfcf; border-radius: 2px; background: #f6fafa; line-height: 1.21429em; padding: 10px;\">\n",
       "                    <div class=\"item_left\" style=\"width: 210px; float: left;\">\n",
       "                       <a href='https://www.arcgis.com/home/item.html?id=2ca611c9b08a462c8d040ef2de53a1ea%20' target='_blank'>\n",
       "                        <img src='https://www.arcgis.com/sharing/rest//content/items/2ca611c9b08a462c8d040ef2de53a1ea%20/info/thumbnail/thumbnail.png' class=\"itemThumbnail\">\n",
       "                       </a>\n",
       "                    </div>\n",
       "\n",
       "                    <div class=\"item_right\"     style=\"float: none; width: auto; overflow: hidden;\">\n",
       "                        <a href='https://www.arcgis.com/home/item.html?id=2ca611c9b08a462c8d040ef2de53a1ea%20' target='_blank'><b>Precip_Current</b>\n",
       "                        </a>\n",
       "                        <br/>Total observed decadal average number of extreme precipitation days per Indiana county for years 1971 - 2000.<img src='https://www.arcgis.com/home/js/jsapi/esri/css/images/item_type_icons/featureshosted16.png' style=\"vertical-align:middle;\">Feature Layer Collection by eridata_IU\n",
       "                        <br/>Last Modified: August 24, 2021\n",
       "                        <br/>0 comments, 90 views\n",
       "                    </div>\n",
       "                </div>\n",
       "                "
      ],
      "text/plain": [
       "<Item title:\"Precip_Current\" type:Feature Layer Collection owner:eridata_IU>"
      ]
     },
     "metadata": {},
     "output_type": "display_data"
    },
    {
     "data": {
      "text/html": [
       "<div class=\"item_container\" style=\"height: auto; overflow: hidden; border: 1px solid #cfcfcf; border-radius: 2px; background: #f6fafa; line-height: 1.21429em; padding: 10px;\">\n",
       "                    <div class=\"item_left\" style=\"width: 210px; float: left;\">\n",
       "                       <a href='https://www.arcgis.com/home/item.html?id=a81b429c6b7e4e978d1370178c55b329%20' target='_blank'>\n",
       "                        <img src='https://www.arcgis.com/sharing/rest//content/items/a81b429c6b7e4e978d1370178c55b329%20/info/thumbnail/thumbnail.png' class=\"itemThumbnail\">\n",
       "                       </a>\n",
       "                    </div>\n",
       "\n",
       "                    <div class=\"item_right\"     style=\"float: none; width: auto; overflow: hidden;\">\n",
       "                        <a href='https://www.arcgis.com/home/item.html?id=a81b429c6b7e4e978d1370178c55b329%20' target='_blank'><b>Precip_RCP45</b>\n",
       "                        </a>\n",
       "                        <br/>Total projected decadal average number of extreme precipitation days per Indiana county for year 2050, medium emissions scenario (RCP 4.5)<img src='https://www.arcgis.com/home/js/jsapi/esri/css/images/item_type_icons/featureshosted16.png' style=\"vertical-align:middle;\">Feature Layer Collection by eridata_IU\n",
       "                        <br/>Last Modified: August 24, 2021\n",
       "                        <br/>0 comments, 62 views\n",
       "                    </div>\n",
       "                </div>\n",
       "                "
      ],
      "text/plain": [
       "<Item title:\"Precip_RCP45\" type:Feature Layer Collection owner:eridata_IU>"
      ]
     },
     "metadata": {},
     "output_type": "display_data"
    },
    {
     "data": {
      "text/html": [
       "<div class=\"item_container\" style=\"height: auto; overflow: hidden; border: 1px solid #cfcfcf; border-radius: 2px; background: #f6fafa; line-height: 1.21429em; padding: 10px;\">\n",
       "                    <div class=\"item_left\" style=\"width: 210px; float: left;\">\n",
       "                       <a href='https://www.arcgis.com/home/item.html?id=af2a7697149644508b0b5a7e2504229d%20' target='_blank'>\n",
       "                        <img src='https://www.arcgis.com/sharing/rest//content/items/af2a7697149644508b0b5a7e2504229d%20/info/thumbnail/thumbnail.png' class=\"itemThumbnail\">\n",
       "                       </a>\n",
       "                    </div>\n",
       "\n",
       "                    <div class=\"item_right\"     style=\"float: none; width: auto; overflow: hidden;\">\n",
       "                        <a href='https://www.arcgis.com/home/item.html?id=af2a7697149644508b0b5a7e2504229d%20' target='_blank'><b>Precip_RCP85</b>\n",
       "                        </a>\n",
       "                        <br/>Total projected decadal average number of extreme precipitation days per Indiana county for year 2050, high emissions scenario (RCP 8.5)<img src='https://www.arcgis.com/home/js/jsapi/esri/css/images/item_type_icons/featureshosted16.png' style=\"vertical-align:middle;\">Feature Layer Collection by eridata_IU\n",
       "                        <br/>Last Modified: August 24, 2021\n",
       "                        <br/>0 comments, 71 views\n",
       "                    </div>\n",
       "                </div>\n",
       "                "
      ],
      "text/plain": [
       "<Item title:\"Precip_RCP85\" type:Feature Layer Collection owner:eridata_IU>"
      ]
     },
     "metadata": {},
     "output_type": "display_data"
    },
    {
     "data": {
      "text/html": [
       "<div class=\"item_container\" style=\"height: auto; overflow: hidden; border: 1px solid #cfcfcf; border-radius: 2px; background: #f6fafa; line-height: 1.21429em; padding: 10px;\">\n",
       "                    <div class=\"item_left\" style=\"width: 210px; float: left;\">\n",
       "                       <a href='https://www.arcgis.com/home/item.html?id=660f51d8a4b14cadad53400779da1a78' target='_blank'>\n",
       "                        <img src='https://www.arcgis.com/sharing/rest//content/items/660f51d8a4b14cadad53400779da1a78/info/thumbnail/thumbnail.png' class=\"itemThumbnail\">\n",
       "                       </a>\n",
       "                    </div>\n",
       "\n",
       "                    <div class=\"item_right\"     style=\"float: none; width: auto; overflow: hidden;\">\n",
       "                        <a href='https://www.arcgis.com/home/item.html?id=660f51d8a4b14cadad53400779da1a78' target='_blank'><b>County_FPLU_Dev_Current</b>\n",
       "                        </a>\n",
       "                        <br/>Total recorded acreage of \"Developed\" land in a county's floodplain per Indiana county for year 2010<img src='https://www.arcgis.com/home/js/jsapi/esri/css/images/item_type_icons/featureshosted16.png' style=\"vertical-align:middle;\">Feature Layer Collection by eridata_IU\n",
       "                        <br/>Last Modified: August 24, 2021\n",
       "                        <br/>0 comments, 124 views\n",
       "                    </div>\n",
       "                </div>\n",
       "                "
      ],
      "text/plain": [
       "<Item title:\"County_FPLU_Dev_Current\" type:Feature Layer Collection owner:eridata_IU>"
      ]
     },
     "metadata": {},
     "output_type": "display_data"
    },
    {
     "data": {
      "text/html": [
       "<div class=\"item_container\" style=\"height: auto; overflow: hidden; border: 1px solid #cfcfcf; border-radius: 2px; background: #f6fafa; line-height: 1.21429em; padding: 10px;\">\n",
       "                    <div class=\"item_left\" style=\"width: 210px; float: left;\">\n",
       "                       <a href='https://www.arcgis.com/home/item.html?id=8174448c2d6748e6adc972ba9edf871d' target='_blank'>\n",
       "                        <img src='https://www.arcgis.com/sharing/rest//content/items/8174448c2d6748e6adc972ba9edf871d/info/thumbnail/ago_downloaded.png' class=\"itemThumbnail\">\n",
       "                       </a>\n",
       "                    </div>\n",
       "\n",
       "                    <div class=\"item_right\"     style=\"float: none; width: auto; overflow: hidden;\">\n",
       "                        <a href='https://www.arcgis.com/home/item.html?id=8174448c2d6748e6adc972ba9edf871d' target='_blank'><b>ICLUS_Groups</b>\n",
       "                        </a>\n",
       "                        <br/>ICLUS Land Use Groups (Developed, Wetland, Agriculture, Forest and Vegetation) shown as 90m x 90m pixels for state of Indiana, as published by USEPA in 2017.<img src='https://www.arcgis.com/home/js/jsapi/esri/css/images/item_type_icons/featureshosted16.png' style=\"vertical-align:middle;\">Feature Layer Collection by eridata_IU\n",
       "                        <br/>Last Modified: August 24, 2021\n",
       "                        <br/>0 comments, 79 views\n",
       "                    </div>\n",
       "                </div>\n",
       "                "
      ],
      "text/plain": [
       "<Item title:\"ICLUS_Groups\" type:Feature Layer Collection owner:eridata_IU>"
      ]
     },
     "metadata": {},
     "output_type": "display_data"
    },
    {
     "data": {
      "text/html": [
       "<div class=\"item_container\" style=\"height: auto; overflow: hidden; border: 1px solid #cfcfcf; border-radius: 2px; background: #f6fafa; line-height: 1.21429em; padding: 10px;\">\n",
       "                    <div class=\"item_left\" style=\"width: 210px; float: left;\">\n",
       "                       <a href='https://www.arcgis.com/home/item.html?id=f6c9968878f440fbbe56193c2edc9959' target='_blank'>\n",
       "                        <img src='https://www.arcgis.com/sharing/rest//content/items/f6c9968878f440fbbe56193c2edc9959/info/thumbnail/ago_downloaded.png' class=\"itemThumbnail\">\n",
       "                       </a>\n",
       "                    </div>\n",
       "\n",
       "                    <div class=\"item_right\"     style=\"float: none; width: auto; overflow: hidden;\">\n",
       "                        <a href='https://www.arcgis.com/home/item.html?id=f6c9968878f440fbbe56193c2edc9959' target='_blank'><b>ICLUS_Classes</b>\n",
       "                        </a>\n",
       "                        <br/>ICLUS Land Use Classes shown as 90m x 90m pixels for state of Indiana, as published by USEPA in 2017.<img src='https://www.arcgis.com/home/js/jsapi/esri/css/images/item_type_icons/featureshosted16.png' style=\"vertical-align:middle;\">Feature Layer Collection by eridata_IU\n",
       "                        <br/>Last Modified: August 24, 2021\n",
       "                        <br/>0 comments, 83 views\n",
       "                    </div>\n",
       "                </div>\n",
       "                "
      ],
      "text/plain": [
       "<Item title:\"ICLUS_Classes\" type:Feature Layer Collection owner:eridata_IU>"
      ]
     },
     "metadata": {},
     "output_type": "display_data"
    },
    {
     "data": {
      "text/html": [
       "<div class=\"item_container\" style=\"height: auto; overflow: hidden; border: 1px solid #cfcfcf; border-radius: 2px; background: #f6fafa; line-height: 1.21429em; padding: 10px;\">\n",
       "                    <div class=\"item_left\" style=\"width: 210px; float: left;\">\n",
       "                       <a href='https://www.arcgis.com/home/item.html?id=d46dc07fbff345818649bae861accada' target='_blank'>\n",
       "                        <img src='https://www.arcgis.com/sharing/rest//content/items/d46dc07fbff345818649bae861accada/info/thumbnail/thumbnail.png' class=\"itemThumbnail\">\n",
       "                       </a>\n",
       "                    </div>\n",
       "\n",
       "                    <div class=\"item_right\"     style=\"float: none; width: auto; overflow: hidden;\">\n",
       "                        <a href='https://www.arcgis.com/home/item.html?id=d46dc07fbff345818649bae861accada' target='_blank'><b>100_Yr_Floodplain</b>\n",
       "                        </a>\n",
       "                        <br/>Areas with a 1% chance of flooding in a given year in the state of Indiana, as presented by IDNR in October, 2019.<img src='https://www.arcgis.com/home/js/jsapi/esri/css/images/item_type_icons/featureshosted16.png' style=\"vertical-align:middle;\">Feature Layer Collection by eridata_IU\n",
       "                        <br/>Last Modified: August 24, 2021\n",
       "                        <br/>0 comments, 102 views\n",
       "                    </div>\n",
       "                </div>\n",
       "                "
      ],
      "text/plain": [
       "<Item title:\"100_Yr_Floodplain\" type:Feature Layer Collection owner:eridata_IU>"
      ]
     },
     "metadata": {},
     "output_type": "display_data"
    },
    {
     "data": {
      "text/html": [
       "<div class=\"item_container\" style=\"height: auto; overflow: hidden; border: 1px solid #cfcfcf; border-radius: 2px; background: #f6fafa; line-height: 1.21429em; padding: 10px;\">\n",
       "                    <div class=\"item_left\" style=\"width: 210px; float: left;\">\n",
       "                       <a href='https://www.arcgis.com/home/item.html?id=d8f1bdef5f3147489e835c07a18113f6' target='_blank'>\n",
       "                        <img src='https://www.arcgis.com/sharing/rest//content/items/d8f1bdef5f3147489e835c07a18113f6/info/thumbnail/thumbnail.png' class=\"itemThumbnail\">\n",
       "                       </a>\n",
       "                    </div>\n",
       "\n",
       "                    <div class=\"item_right\"     style=\"float: none; width: auto; overflow: hidden;\">\n",
       "                        <a href='https://www.arcgis.com/home/item.html?id=d8f1bdef5f3147489e835c07a18113f6' target='_blank'><b>500_Yr_Floodplain</b>\n",
       "                        </a>\n",
       "                        <br/>Areas with a 0.02% chance of flooding in a given year in the state of Indiana, as presented by IDNR in October, 2019.<img src='https://www.arcgis.com/home/js/jsapi/esri/css/images/item_type_icons/featureshosted16.png' style=\"vertical-align:middle;\">Feature Layer Collection by eridata_IU\n",
       "                        <br/>Last Modified: August 24, 2021\n",
       "                        <br/>0 comments, 72 views\n",
       "                    </div>\n",
       "                </div>\n",
       "                "
      ],
      "text/plain": [
       "<Item title:\"500_Yr_Floodplain\" type:Feature Layer Collection owner:eridata_IU>"
      ]
     },
     "metadata": {},
     "output_type": "display_data"
    },
    {
     "data": {
      "text/html": [
       "<div class=\"item_container\" style=\"height: auto; overflow: hidden; border: 1px solid #cfcfcf; border-radius: 2px; background: #f6fafa; line-height: 1.21429em; padding: 10px;\">\n",
       "                    <div class=\"item_left\" style=\"width: 210px; float: left;\">\n",
       "                       <a href='https://www.arcgis.com/home/item.html?id=d997537cb53f4ae39618593e19cbbe70' target='_blank'>\n",
       "                        <img src='https://www.arcgis.com/sharing/rest//content/items/d997537cb53f4ae39618593e19cbbe70/info/thumbnail/thumbnail.png' class=\"itemThumbnail\">\n",
       "                       </a>\n",
       "                    </div>\n",
       "\n",
       "                    <div class=\"item_right\"     style=\"float: none; width: auto; overflow: hidden;\">\n",
       "                        <a href='https://www.arcgis.com/home/item.html?id=d997537cb53f4ae39618593e19cbbe70' target='_blank'><b>RPL_THEME2</b>\n",
       "                        </a>\n",
       "                        <br/>Ranked percentile of household composition and disability vulnerability (e.g. percent aged 65 or older / percent aged 17 or younger / percent with a disability / percent single-parent households) per Indiana census tract for years 2013 - 2017.<img src='https://www.arcgis.com/home/js/jsapi/esri/css/images/item_type_icons/featureshosted16.png' style=\"vertical-align:middle;\">Feature Layer Collection by eridata_IU\n",
       "                        <br/>Last Modified: August 24, 2021\n",
       "                        <br/>0 comments, 107 views\n",
       "                    </div>\n",
       "                </div>\n",
       "                "
      ],
      "text/plain": [
       "<Item title:\"RPL_THEME2\" type:Feature Layer Collection owner:eridata_IU>"
      ]
     },
     "metadata": {},
     "output_type": "display_data"
    },
    {
     "data": {
      "text/html": [
       "<div class=\"item_container\" style=\"height: auto; overflow: hidden; border: 1px solid #cfcfcf; border-radius: 2px; background: #f6fafa; line-height: 1.21429em; padding: 10px;\">\n",
       "                    <div class=\"item_left\" style=\"width: 210px; float: left;\">\n",
       "                       <a href='https://www.arcgis.com/home/item.html?id=9133a5b3466947b795078b37cd0fcb67' target='_blank'>\n",
       "                        <img src='https://www.arcgis.com/sharing/rest//content/items/9133a5b3466947b795078b37cd0fcb67/info/thumbnail/thumbnail.png' class=\"itemThumbnail\">\n",
       "                       </a>\n",
       "                    </div>\n",
       "\n",
       "                    <div class=\"item_right\"     style=\"float: none; width: auto; overflow: hidden;\">\n",
       "                        <a href='https://www.arcgis.com/home/item.html?id=9133a5b3466947b795078b37cd0fcb67' target='_blank'><b>RPL_THEME4</b>\n",
       "                        </a>\n",
       "                        <br/>Ranked percentile of housing and transportation vulnerability (e.g. multi-unit structures / mobile homes / households with more people than rooms / households with no vehicle / persons in group quarters) per Indiana census tract for years 2013 - 2017<img src='https://www.arcgis.com/home/js/jsapi/esri/css/images/item_type_icons/featureshosted16.png' style=\"vertical-align:middle;\">Feature Layer Collection by eridata_IU\n",
       "                        <br/>Last Modified: August 24, 2021\n",
       "                        <br/>0 comments, 76 views\n",
       "                    </div>\n",
       "                </div>\n",
       "                "
      ],
      "text/plain": [
       "<Item title:\"RPL_THEME4\" type:Feature Layer Collection owner:eridata_IU>"
      ]
     },
     "metadata": {},
     "output_type": "display_data"
    },
    {
     "data": {
      "text/html": [
       "<div class=\"item_container\" style=\"height: auto; overflow: hidden; border: 1px solid #cfcfcf; border-radius: 2px; background: #f6fafa; line-height: 1.21429em; padding: 10px;\">\n",
       "                    <div class=\"item_left\" style=\"width: 210px; float: left;\">\n",
       "                       <a href='https://www.arcgis.com/home/item.html?id=12afb1698202496785d3f0dcf149a5d2' target='_blank'>\n",
       "                        <img src='https://www.arcgis.com/sharing/rest//content/items/12afb1698202496785d3f0dcf149a5d2/info/thumbnail/thumbnail.png' class=\"itemThumbnail\">\n",
       "                       </a>\n",
       "                    </div>\n",
       "\n",
       "                    <div class=\"item_right\"     style=\"float: none; width: auto; overflow: hidden;\">\n",
       "                        <a href='https://www.arcgis.com/home/item.html?id=12afb1698202496785d3f0dcf149a5d2' target='_blank'><b>RPL_THEME3</b>\n",
       "                        </a>\n",
       "                        <br/>Ranked percentile of minority status and language vulnerability (e.g. persons in a minority community / persons speaking English \"Less than Well\") per Indiana census tract for years 2013 - 2017.<img src='https://www.arcgis.com/home/js/jsapi/esri/css/images/item_type_icons/featureshosted16.png' style=\"vertical-align:middle;\">Feature Layer Collection by eridata_IU\n",
       "                        <br/>Last Modified: August 24, 2021\n",
       "                        <br/>0 comments, 102 views\n",
       "                    </div>\n",
       "                </div>\n",
       "                "
      ],
      "text/plain": [
       "<Item title:\"RPL_THEME3\" type:Feature Layer Collection owner:eridata_IU>"
      ]
     },
     "metadata": {},
     "output_type": "display_data"
    },
    {
     "data": {
      "text/html": [
       "<div class=\"item_container\" style=\"height: auto; overflow: hidden; border: 1px solid #cfcfcf; border-radius: 2px; background: #f6fafa; line-height: 1.21429em; padding: 10px;\">\n",
       "                    <div class=\"item_left\" style=\"width: 210px; float: left;\">\n",
       "                       <a href='https://www.arcgis.com/home/item.html?id=496e9733ff2b447187cc75d216a89df7' target='_blank'>\n",
       "                        <img src='https://www.arcgis.com/sharing/rest//content/items/496e9733ff2b447187cc75d216a89df7/info/thumbnail/thumbnail.png' class=\"itemThumbnail\">\n",
       "                       </a>\n",
       "                    </div>\n",
       "\n",
       "                    <div class=\"item_right\"     style=\"float: none; width: auto; overflow: hidden;\">\n",
       "                        <a href='https://www.arcgis.com/home/item.html?id=496e9733ff2b447187cc75d216a89df7' target='_blank'><b>RPL_THEME1</b>\n",
       "                        </a>\n",
       "                        <br/>Ranked percentile of socioeconomic vulnerability (e.g. persons below poverty line / persons unemployed / per capita income / persons older than 25 with less than a 12th grade education) per Indiana census tract for years 2013 - 2017.<img src='https://www.arcgis.com/home/js/jsapi/esri/css/images/item_type_icons/featureshosted16.png' style=\"vertical-align:middle;\">Feature Layer Collection by eridata_IU\n",
       "                        <br/>Last Modified: August 24, 2021\n",
       "                        <br/>0 comments, 158 views\n",
       "                    </div>\n",
       "                </div>\n",
       "                "
      ],
      "text/plain": [
       "<Item title:\"RPL_THEME1\" type:Feature Layer Collection owner:eridata_IU>"
      ]
     },
     "metadata": {},
     "output_type": "display_data"
    },
    {
     "data": {
      "text/html": [
       "<div class=\"item_container\" style=\"height: auto; overflow: hidden; border: 1px solid #cfcfcf; border-radius: 2px; background: #f6fafa; line-height: 1.21429em; padding: 10px;\">\n",
       "                    <div class=\"item_left\" style=\"width: 210px; float: left;\">\n",
       "                       <a href='https://www.arcgis.com/home/item.html?id=d65d6a009ea54ddb80729367ee40e561' target='_blank'>\n",
       "                        <img src='https://www.arcgis.com/sharing/rest//content/items/d65d6a009ea54ddb80729367ee40e561/info/thumbnail/thumbnail.png' class=\"itemThumbnail\">\n",
       "                       </a>\n",
       "                    </div>\n",
       "\n",
       "                    <div class=\"item_right\"     style=\"float: none; width: auto; overflow: hidden;\">\n",
       "                        <a href='https://www.arcgis.com/home/item.html?id=d65d6a009ea54ddb80729367ee40e561' target='_blank'><b>RPL_THEMES</b>\n",
       "                        </a>\n",
       "                        <br/>Ranked percentile of social vulnerability (e.g. inability to prevent human suffering and financial loss in the event of a disaster) per Indiana census tract for years 2013 - 2017.<img src='https://www.arcgis.com/home/js/jsapi/esri/css/images/item_type_icons/featureshosted16.png' style=\"vertical-align:middle;\">Feature Layer Collection by eridata_IU\n",
       "                        <br/>Last Modified: August 24, 2021\n",
       "                        <br/>0 comments, 269 views\n",
       "                    </div>\n",
       "                </div>\n",
       "                "
      ],
      "text/plain": [
       "<Item title:\"RPL_THEMES\" type:Feature Layer Collection owner:eridata_IU>"
      ]
     },
     "metadata": {},
     "output_type": "display_data"
    }
   ],
   "source": [
    "All_Metadata = []\n",
    "\n",
    "for link in dataset_urls:\n",
    "    # extract metadata from this web content as well as its REST API\n",
    "    metadata = construct_metadata(link)\n",
    "    All_Metadata.append(metadata)"
   ]
  },
  {
   "cell_type": "markdown",
   "metadata": {},
   "source": [
    "### Write CSV Reports"
   ]
  },
  {
   "cell_type": "code",
   "execution_count": 8,
   "metadata": {},
   "outputs": [],
   "source": [
    "fieldnames = ['Title', 'Alternative Title', 'Description', 'Language', 'Creator', 'Title Source', 'Resource Class',\n",
    "              'ISO Topic Categories', 'Keyword', 'Date Issued', 'Temporal Coverage', 'Date Range', 'Spatial Coverage',\n",
    "              'Bounding Box', 'Resource Type', 'Format', 'Information', 'Download', 'MapServer',\n",
    "              'FeatureServer', 'ImageServer', 'ID', 'Identifier', 'Provider', 'Code', 'Member Of', 'Status',\n",
    "              'Accrual Method', 'Date Accessioned', 'Rights', 'Access Rights', 'Suppressed', 'Child Record', \"File Size\"]\n",
    "\n",
    "actionDate = time.strftime('%Y%m%d')"
   ]
  },
  {
   "cell_type": "code",
   "execution_count": 9,
   "metadata": {},
   "outputs": [],
   "source": [
    "with open('reports/metadata_{}.csv'.format(actionDate), 'w') as fw:\n",
    "    writer = csv.writer(fw)\n",
    "    writer.writerow(fieldnames)\n",
    "    writer.writerows(All_Metadata)"
   ]
  },
  {
   "cell_type": "code",
   "execution_count": null,
   "metadata": {},
   "outputs": [],
   "source": []
  }
 ],
 "metadata": {
  "kernelspec": {
   "display_name": "Python 3",
   "language": "python",
   "name": "python3"
  },
  "language_info": {
   "codemirror_mode": {
    "name": "ipython",
    "version": 3
   },
   "file_extension": ".py",
   "mimetype": "text/x-python",
   "name": "python",
   "nbconvert_exporter": "python",
   "pygments_lexer": "ipython3",
   "version": "3.7.4"
  }
 },
 "nbformat": 4,
 "nbformat_minor": 2
}
