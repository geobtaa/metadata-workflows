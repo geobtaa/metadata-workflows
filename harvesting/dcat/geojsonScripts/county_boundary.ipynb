{
 "cells": [
  {
   "cell_type": "markdown",
   "metadata": {},
   "source": [
    "# Converting County Rawdata into Boundary GeoJSON"
   ]
  },
  {
   "cell_type": "markdown",
   "metadata": {},
   "source": [
    "## Part 1: Introduction"
   ]
  },
  {
   "cell_type": "markdown",
   "metadata": {},
   "source": [
    "This Jupyter Notebook is intended to create county boundary GeoJSON based on county GeoJSON/Shapefile."
   ]
  },
  {
   "cell_type": "markdown",
   "metadata": {},
   "source": [
    "## Part 2: Preparation"
   ]
  },
  {
   "cell_type": "markdown",
   "metadata": {},
   "source": [
    "We will be using **Jupyter Notebook(anaconda 3)** to edit and run the script. Information on Anaconda installation can be found <a href='https://docs.anaconda.com/anaconda/install/'>here</a>. Please note that this script is running on Python 3.\n",
    "\n",
    "***Usually, You can download county boundary data from state data portals.***\n",
    "\n",
    "To run this script you need:\n",
    "- county GeoJSON/Shapefile stored in **state** folder\n",
    "- directory path (**geojsons** folder > **state** folder)\n",
    "\n",
    "The script currently prints one GeoJSON file:\n",
    "- **state_County_boundaries.json**\n",
    "\n",
    ">Original created on Feb 4 2021<br>\n",
    "@author: Yijing Zhou @YijingZhou33"
   ]
  },
  {
   "cell_type": "markdown",
   "metadata": {},
   "source": [
    "## Part 3: Get Started"
   ]
  },
  {
   "cell_type": "markdown",
   "metadata": {},
   "source": [
    "###  Step 1: Import modules"
   ]
  },
  {
   "cell_type": "code",
   "execution_count": null,
   "metadata": {},
   "outputs": [],
   "source": [
    "import pandas as pd\n",
    "import os\n",
    "import geopandas as gpd\n",
    "import json\n",
    "from itertools import chain\n",
    "import string\n",
    "import folium"
   ]
  },
  {
   "cell_type": "markdown",
   "metadata": {},
   "source": [
    "### Step 2: Manual items to change\n",
    "> Uncomment one of the code blocks based on file type"
   ]
  },
  {
   "cell_type": "code",
   "execution_count": null,
   "metadata": {},
   "outputs": [],
   "source": [
    "###### Target state ######\n",
    "state = 'New Hampshire'\n",
    "\n",
    "###### Rawdata is Shapefile ######\n",
    "countydata = 'New Hampshire_counties'\n",
    "\n",
    "###### Rawdata is GeoJSON ######\n",
    "# countydata = '' "
   ]
  },
  {
   "cell_type": "markdown",
   "metadata": {},
   "source": [
    "### Step 3: Set file path"
   ]
  },
  {
   "cell_type": "code",
   "execution_count": null,
   "metadata": {},
   "outputs": [],
   "source": [
    "rootpath = os.path.dirname(os.getcwd())\n",
    "output = os.path.join(rootpath, 'geojsons', state, state + '_County_boundaries.json')"
   ]
  },
  {
   "cell_type": "markdown",
   "metadata": {},
   "source": [
    "## Part 4: Build up city GeoJSON schema"
   ]
  },
  {
   "cell_type": "markdown",
   "metadata": {},
   "source": [
    "###  Step 4: Convert rawdata into GeoJSON\n",
    "> Uncomment one of the code blocks based on file type"
   ]
  },
  {
   "cell_type": "code",
   "execution_count": null,
   "metadata": {},
   "outputs": [],
   "source": [
    "###### Rawdata is Shapefile ######\n",
    "def shp_to_gdf(rawdata):\n",
    "    path = os.path.join(rootpath, 'geojsons', state, rawdata)\n",
    "    shp = gpd.read_file(path, driver = 'shapefile').to_crs('EPSG:4326')\n",
    "    return shp\n",
    "\n",
    "# **************** uncomment **********************\n",
    "gdf_county = shp_to_gdf(countydata)\n",
    "# *************************************************\n",
    "\n",
    "###### Rawdata is GeoJSON ######\n",
    "# def geojson_to_gdf(rawdata):\n",
    "#     path = os.path.join(rootpath, 'geojsons', state, rawdata + '.geojson')\n",
    "#     geojson = gpd.read_file(path).to_crs('EPSG:4326')\n",
    "#     return geojson\n",
    "\n",
    "# **************** uncomment **********************\n",
    "# gdf_county = geojson_to_gdf(countydata)\n",
    "# *************************************************"
   ]
  },
  {
   "cell_type": "markdown",
   "metadata": {},
   "source": [
    "###  Step 5: Inspect the dataframe to find out the column of county name"
   ]
  },
  {
   "cell_type": "markdown",
   "metadata": {},
   "source": [
    "We're going to extract the columns containing county name and geometry information. Since name conventions differ in states, it's necessary to rename it.<br>\n",
    "> By default, the script has already listed some possible column names, but you may need to manually input one. "
   ]
  },
  {
   "cell_type": "code",
   "execution_count": null,
   "metadata": {},
   "outputs": [],
   "source": [
    "gdf_county.head()"
   ]
  },
  {
   "cell_type": "code",
   "execution_count": null,
   "metadata": {},
   "outputs": [],
   "source": [
    "def rename(df):\n",
    "    ## possible county column names in the dataframe\n",
    "    clist = ['COUNTY', 'NAME', 'COUNTY_NAM', 'COUNTY_NAME', 'CTY_NAME']\n",
    "    \n",
    "    if set(df.columns).intersection(set(clist)):\n",
    "        cname = ''.join(set(df.columns).intersection(set(clist)))\n",
    "    else:\n",
    "        ## You may need to input one if it isn't clist\n",
    "        cname = input('Please enter the column storing county names: ').strip()\n",
    "          \n",
    "    df = df[[cname, 'geometry']].rename(columns={cname:'County'})      \n",
    "    ## capitalize the first letter of each word in the county name\n",
    "    df['County'] = df['County'].apply(lambda row: string.capwords(row) + ' County')\n",
    "    \n",
    "    return df\n",
    "\n",
    "gdf_merged = rename(gdf_county)"
   ]
  },
  {
   "cell_type": "markdown",
   "metadata": {},
   "source": [
    "### Step 6: Convert GeoJSON into JSON"
   ]
  },
  {
   "cell_type": "code",
   "execution_count": null,
   "metadata": {},
   "outputs": [],
   "source": [
    "def conversion(inputfile):\n",
    "    ## convert file to json \n",
    "    inputfile = json.loads(inputfile.to_json())\n",
    "    ## display features properties as dataframe\n",
    "    df = pd.json_normalize(inputfile['features'])\n",
    "    return df\n",
    "\n",
    "df_merged = conversion(gdf_merged)"
   ]
  },
  {
   "cell_type": "markdown",
   "metadata": {},
   "source": [
    "###  Step 7: Create bounding box"
   ]
  },
  {
   "cell_type": "code",
   "execution_count": null,
   "metadata": {},
   "outputs": [],
   "source": [
    "def round_coordinates(l, precision):\n",
    "    def round_element(e):\n",
    "        if isinstance(e, list):\n",
    "            return round_coordinates(e, precision)\n",
    "        else:\n",
    "            return round(e, precision)\n",
    "    return [round_element(e) for e in l]\n",
    "\n",
    "df_merged['geometry.coordinates'] = round_coordinates(df_merged['geometry.coordinates'], 4)\n",
    "df_merged.head()"
   ]
  },
  {
   "cell_type": "markdown",
   "metadata": {},
   "source": [
    "## Part 5: Create County GeoJSON"
   ]
  },
  {
   "cell_type": "markdown",
   "metadata": {},
   "source": [
    "###  Step 8: Create geojson features"
   ]
  },
  {
   "cell_type": "code",
   "execution_count": null,
   "metadata": {},
   "outputs": [],
   "source": [
    "def create_geojson_features(df):\n",
    "    print('> Creating GeoJSON features...')\n",
    "    features = []\n",
    "    geojson = {\n",
    "        'type': 'FeatureCollection',\n",
    "        'features': features\n",
    "    }\n",
    "        \n",
    "    for _, row in df.iterrows():\n",
    "        if type(row['geometry.coordinates'][0][0][0]) is float:\n",
    "            geometry_type = 'Polygon'\n",
    "        else:\n",
    "            geometry_type = 'MultiPolygon'\n",
    "        feature = {\n",
    "            'type': 'Feature',\n",
    "            'geometry': {\n",
    "                'type': geometry_type, \n",
    "                'coordinates': row['geometry.coordinates']\n",
    "            },\n",
    "            'properties': {\n",
    "                'County': row['properties.County'], \n",
    "                'State': state\n",
    "            }\n",
    "        }\n",
    "\n",
    "        features.append(feature)\n",
    "    return geojson\n",
    "\n",
    "data_geojson = create_geojson_features(df_merged)"
   ]
  },
  {
   "cell_type": "markdown",
   "metadata": {},
   "source": [
    "###  Step 9: Generate geojson file"
   ]
  },
  {
   "cell_type": "code",
   "execution_count": null,
   "metadata": {},
   "outputs": [],
   "source": [
    "with open(output, 'w') as txtfile:\n",
    "    json.dump(data_geojson, txtfile)\n",
    "print('> Creating GeoJSON file...')"
   ]
  },
  {
   "cell_type": "markdown",
   "metadata": {},
   "source": [
    "## Part 6: Inspect bounding box map"
   ]
  },
  {
   "cell_type": "code",
   "execution_count": null,
   "metadata": {},
   "outputs": [],
   "source": [
    "print('> Making map...')\n",
    "## change the location here to zoom to the center\n",
    "m = folium.Map(location = [42.3756, -93.6397], control_scale = True, zoom_start = 4)\n",
    "\n",
    "## check if the indexmap geojson files can be rendered properly\n",
    "folium.GeoJson(output, \n",
    "               tooltip = folium.GeoJsonTooltip(fields=('County', 'State'),\n",
    "               aliases=('County', 'State')),\n",
    "               show = True).add_to(m)\n",
    "m"
   ]
  },
  {
   "cell_type": "code",
   "execution_count": null,
   "metadata": {},
   "outputs": [],
   "source": []
  }
 ],
 "metadata": {
  "kernelspec": {
   "display_name": "Python 3",
   "language": "python",
   "name": "python3"
  },
  "language_info": {
   "codemirror_mode": {
    "name": "ipython",
    "version": 3
   },
   "file_extension": ".py",
   "mimetype": "text/x-python",
   "name": "python",
   "nbconvert_exporter": "python",
   "pygments_lexer": "ipython3",
   "version": "3.7.6"
  }
 },
 "nbformat": 4,
 "nbformat_minor": 4
}
