{
 "cells": [
  {
   "cell_type": "markdown",
   "metadata": {},
   "source": [
    "# Merging multiple bounding box files into one "
   ]
  },
  {
   "cell_type": "markdown",
   "metadata": {},
   "source": [
    "## Part 1: Introduction"
   ]
  },
  {
   "cell_type": "markdown",
   "metadata": {},
   "source": [
    "This Jupyter Notebook is intended to process **regional data portal**. It will merge all boudning box files within the reigon into one file for both city and county level. "
   ]
  },
  {
   "cell_type": "markdown",
   "metadata": {},
   "source": [
    "## Part 2: Preparation"
   ]
  },
  {
   "cell_type": "markdown",
   "metadata": {},
   "source": [
    "We will be using **Jupyter Notebook(anaconda 3)** to edit and run the script. Information on Anaconda installation can be found <a href='https://docs.anaconda.com/anaconda/install/'>here</a>. Please note that this script is running on Python 3.\n",
    "\n",
    "To run this script you need:\n",
    "- all related city and county bounding box files stored in **portalCode** folder\n",
    "- directory path (**geojsons** folder > **portalCode** folder)\n",
    "\n",
    "The script currently prints two GeoJSON files:\n",
    "- **portalCode_City_bbox**.json\n",
    "- **portalCode_County_bbox**.json\n",
    "\n",
    ">Original created on Jan 31 2021<br>\n",
    "@author: Yijing Zhou @YijingZhou33"
   ]
  },
  {
   "cell_type": "markdown",
   "metadata": {},
   "source": [
    "## Part 3: Get Started"
   ]
  },
  {
   "cell_type": "markdown",
   "metadata": {},
   "source": [
    "###  Step 1: Import modules"
   ]
  },
  {
   "cell_type": "code",
   "execution_count": null,
   "metadata": {},
   "outputs": [],
   "source": [
    "import pandas as pd\n",
    "import os\n",
    "import geopandas as gpd\n",
    "import json\n",
    "from itertools import chain\n",
    "from functools import reduce\n",
    "import folium"
   ]
  },
  {
   "cell_type": "markdown",
   "metadata": {},
   "source": [
    "### Step 2: Manual items to change"
   ]
  },
  {
   "cell_type": "code",
   "execution_count": null,
   "metadata": {},
   "outputs": [],
   "source": [
    "###### Portal Code ######\n",
    "code = '04f-01'\n",
    "\n",
    "## all states within the region\n",
    "mergedstates = ['Maryland', 'New Jersey', 'Pennsylvania', 'Delaware']"
   ]
  },
  {
   "cell_type": "markdown",
   "metadata": {},
   "source": [
    "## Part 4: Build up merged GeoJSON schema"
   ]
  },
  {
   "cell_type": "markdown",
   "metadata": {},
   "source": [
    "### Step 3: Merge multiple GeoJSON files into one"
   ]
  },
  {
   "cell_type": "code",
   "execution_count": null,
   "metadata": {},
   "outputs": [],
   "source": [
    "def merge_JsonFiles(mergedstates, level):\n",
    "    dflist = []\n",
    "    rootpath = os.path.dirname(os.getcwd())\n",
    "    for state in mergedstates:\n",
    "        filepath = os.path.join(rootpath, 'geojsons', code, f'{state}_{level}_bbox.json')\n",
    "        geojson = gpd.read_file(filepath)\n",
    "        ## delete source files\n",
    "        os.remove(filepath)\n",
    "        dflist.append(geojson)\n",
    "    \n",
    "    ## merge dataframes created by GeoJSON files\n",
    "    gdf_merged = reduce(lambda left, right: left.append(right), dflist)\n",
    "    gdf_merged.to_file(os.path.join(rootpath, 'geojsons', code, f'{code}_{level}_bbox.json'), driver='GeoJSON')\n",
    "    \n",
    "    return gdf_merged\n",
    "\n",
    "county_geojson = merge_JsonFiles(mergedstates, 'County')\n",
    "city_geojson = merge_JsonFiles(mergedstates, 'City')"
   ]
  },
  {
   "cell_type": "markdown",
   "metadata": {},
   "source": [
    "## Part 5: Inspect merged bounding box map"
   ]
  },
  {
   "cell_type": "code",
   "execution_count": null,
   "metadata": {},
   "outputs": [],
   "source": [
    "print('> Making map...')\n",
    "## change the location here to zoom to the center\n",
    "m = folium.Map(location = [42.3756, -93.6397], control_scale = True, zoom_start = 5)\n",
    "\n",
    "## check if the county geojson file can be rendered properly\n",
    "folium.GeoJson(county_geojson,\n",
    "               tooltip = folium.GeoJsonTooltip(fields=('County', 'State'),\n",
    "               aliases=('County', 'State')),\n",
    "               show = True).add_to(m)\n",
    "\n",
    "## check if the city geojson file can be rendered properly\n",
    "folium.GeoJson(city_geojson,\n",
    "               tooltip = folium.GeoJsonTooltip(fields=('City', 'County', 'State'),\n",
    "               aliases=('City', 'County', 'State')),\n",
    "               show = True).add_to(m)\n",
    "\n",
    "m"
   ]
  },
  {
   "cell_type": "code",
   "execution_count": null,
   "metadata": {},
   "outputs": [],
   "source": []
  }
 ],
 "metadata": {
  "kernelspec": {
   "display_name": "Python 3",
   "language": "python",
   "name": "python3"
  },
  "language_info": {
   "codemirror_mode": {
    "name": "ipython",
    "version": 3
   },
   "file_extension": ".py",
   "mimetype": "text/x-python",
   "name": "python",
   "nbconvert_exporter": "python",
   "pygments_lexer": "ipython3",
   "version": "3.7.6"
  }
 },
 "nbformat": 4,
 "nbformat_minor": 4
}
