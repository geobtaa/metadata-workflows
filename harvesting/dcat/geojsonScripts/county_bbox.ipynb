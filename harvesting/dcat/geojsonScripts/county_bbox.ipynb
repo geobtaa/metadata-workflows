{
 "cells": [
  {
   "cell_type": "markdown",
   "metadata": {},
   "source": [
    "# Converting County Boundary GeoJSON into Regular Bounding Box"
   ]
  },
  {
   "cell_type": "markdown",
   "metadata": {},
   "source": [
    "## Part 1: Introduction"
   ]
  },
  {
   "cell_type": "markdown",
   "metadata": {},
   "source": [
    "This Jupyter Notebook is intended to create county bounding box file based on county boundary GeoJSON."
   ]
  },
  {
   "cell_type": "markdown",
   "metadata": {},
   "source": [
    "## Part 2: Preparation"
   ]
  },
  {
   "cell_type": "markdown",
   "metadata": {},
   "source": [
    "We will be using **Jupyter Notebook(anaconda 3)** to edit and run the script. Information on Anaconda installation can be found <a href='https://docs.anaconda.com/anaconda/install/'>here</a>. Please note that this script is running on Python 3.\n",
    "\n",
    "To run this script you need:\n",
    "- **state_County_boundaries.json** stored in **state** folder\n",
    "- directory path (**geojson** folder > **state** folder)\n",
    "\n",
    "The script currently prints one GeoJSON file:\n",
    "- **state_County_bbox.json**\n",
    "\n",
    ">Original created on Jan 31 2021<br>\n",
    "@author: Yijing Zhou @YijingZhou33"
   ]
  },
  {
   "cell_type": "markdown",
   "metadata": {},
   "source": [
    "## Part 3: Get Started"
   ]
  },
  {
   "cell_type": "markdown",
   "metadata": {},
   "source": [
    "###  Step 1: Import modules"
   ]
  },
  {
   "cell_type": "code",
   "execution_count": null,
   "metadata": {},
   "outputs": [],
   "source": [
    "import pandas as pd\n",
    "import os\n",
    "import geopandas as gpd\n",
    "import json\n",
    "from itertools import chain\n",
    "import string\n",
    "import folium"
   ]
  },
  {
   "cell_type": "markdown",
   "metadata": {},
   "source": [
    "### Step 2: Manual items to change"
   ]
  },
  {
   "cell_type": "code",
   "execution_count": null,
   "metadata": {},
   "outputs": [],
   "source": [
    "###### Target state ######\n",
    "state = 'West Virginia'"
   ]
  },
  {
   "cell_type": "markdown",
   "metadata": {},
   "source": [
    "### Step 3: Set file path"
   ]
  },
  {
   "cell_type": "code",
   "execution_count": null,
   "metadata": {},
   "outputs": [],
   "source": [
    "rootpath = os.path.dirname(os.getcwd())\n",
    "rawdata = os.path.join(rootpath, 'geojsons', state, state + '_County_boundaries.json')\n",
    "output = os.path.join(rootpath, 'geojsons', state, state + '_County_bbox.json')"
   ]
  },
  {
   "cell_type": "markdown",
   "metadata": {},
   "source": [
    "## Part 4: Build up county GeoJSON schema"
   ]
  },
  {
   "cell_type": "markdown",
   "metadata": {},
   "source": [
    "###  Step 4: Convert GeoJSON to JSON"
   ]
  },
  {
   "cell_type": "code",
   "execution_count": null,
   "metadata": {},
   "outputs": [],
   "source": [
    "def conversion(rawdata):\n",
    "    inputfile = gpd.read_file(rawdata)\n",
    "    ## convert file to json \n",
    "    inputfile = json.loads(inputfile.to_json())\n",
    "    ## display features properties as dataframe\n",
    "    df = pd.json_normalize(inputfile['features'])\n",
    "    return df\n",
    "\n",
    "df = conversion(rawdata)"
   ]
  },
  {
   "cell_type": "markdown",
   "metadata": {},
   "source": [
    "###  Step 5: Create bounding box"
   ]
  },
  {
   "cell_type": "code",
   "execution_count": null,
   "metadata": {},
   "outputs": [],
   "source": [
    "def bbox(points):\n",
    "    x_coordinates, y_coordinates = zip(*points)\n",
    "    return ','.join(str(x) for x in [min(x_coordinates), min(y_coordinates), max(x_coordinates), max(y_coordinates)])\n",
    "\n",
    "def coordinates_bbox(df):\n",
    "    for _, row in df.iterrows():\n",
    "        ## geometry is Polygon\n",
    "        if type(row['geometry.coordinates'][0][0][0]) is float:\n",
    "            row['geometry.coordinates'] = bbox(row['geometry.coordinates'][0])\n",
    "        else:\n",
    "        ## geometry is Multipolygon\n",
    "            row['geometry.coordinates'] = bbox(list(chain.from_iterable([l[0] for l in row['geometry.coordinates']])))\n",
    "            \n",
    "coordinates_bbox(df)"
   ]
  },
  {
   "cell_type": "markdown",
   "metadata": {},
   "source": [
    "###  Step 6: Round coordinates to 4 decimal places"
   ]
  },
  {
   "cell_type": "code",
   "execution_count": null,
   "metadata": {},
   "outputs": [],
   "source": [
    "## create regular bouding box coordinate pairs and round them to 4 decimal places\n",
    "df = pd.concat([df, df['geometry.coordinates'].str.split(',', expand=True).astype(float)], axis=1).rename(\n",
    "    columns={0:'minX', 1:'minY', 2:'maxX', 3:'maxY'})\n",
    "df['maxXmaxY'] = df.apply(lambda row: [row.maxX, row.maxY], axis = 1)\n",
    "df['maxXminY'] = df.apply(lambda row: [row.maxX, row.minY], axis = 1)\n",
    "df['minXminY'] = df.apply(lambda row: [row.minX, row.minY], axis = 1)\n",
    "df['minXmaxY'] = df.apply(lambda row: [row.minX, row.maxY], axis = 1)\n",
    "df['geometry.coordinates'] = df[['maxXmaxY', 'maxXminY', 'minXminY', 'minXmaxY', 'maxXmaxY']].values.tolist()\n",
    "\n",
    "## clean up unnecessary columns\n",
    "df_clean = df.drop(columns =['minX', 'minY', 'maxX', 'maxY', 'maxXmaxY', 'maxXminY', 'minXminY', 'minXmaxY'])"
   ]
  },
  {
   "cell_type": "markdown",
   "metadata": {},
   "source": [
    "## Part 5: Create County GeoJSON"
   ]
  },
  {
   "cell_type": "markdown",
   "metadata": {},
   "source": [
    "###  Step 7: Create geojson features"
   ]
  },
  {
   "cell_type": "code",
   "execution_count": null,
   "metadata": {
    "scrolled": true
   },
   "outputs": [],
   "source": [
    "# create_geojson_features \n",
    "def create_geojson_features(df):\n",
    "    print('> Creating GeoJSON features...')\n",
    "    features = []\n",
    "    geojson = {\n",
    "        'type': 'FeatureCollection',\n",
    "        'features': features\n",
    "    }\n",
    "    for _, row in df.iterrows():\n",
    "        feature = {\n",
    "            'type': 'Feature',\n",
    "            'geometry': {\n",
    "                'type':'Polygon', \n",
    "                'coordinates':[row['geometry.coordinates']]\n",
    "            },\n",
    "            'properties': {\n",
    "                'County': row['properties.County'],\n",
    "                'State': row['properties.State']\n",
    "            }\n",
    "        }\n",
    "\n",
    "        features.append(feature)\n",
    "    return geojson\n",
    "\n",
    "data_geojson = create_geojson_features(df_clean)"
   ]
  },
  {
   "cell_type": "markdown",
   "metadata": {},
   "source": [
    "###  Step 8: Generate geojson file"
   ]
  },
  {
   "cell_type": "code",
   "execution_count": null,
   "metadata": {},
   "outputs": [],
   "source": [
    "with open(output, 'w') as txtfile:\n",
    "    json.dump(data_geojson, txtfile)\n",
    "print('> Creating GeoJSON file...')"
   ]
  },
  {
   "cell_type": "markdown",
   "metadata": {},
   "source": [
    "## Part 6: Inspect bounding box map"
   ]
  },
  {
   "cell_type": "code",
   "execution_count": null,
   "metadata": {},
   "outputs": [],
   "source": [
    "print('> Making map...')\n",
    "## change the location here to zoom to the center\n",
    "m = folium.Map(location = [42.3756, -93.6397], control_scale = True, zoom_start = 4)\n",
    "\n",
    "## check if the indexmap geojson files can be rendered properly\n",
    "folium.GeoJson(output, \n",
    "               tooltip = folium.GeoJsonTooltip(fields=('County', 'State'),\n",
    "               aliases=('County', 'State')),\n",
    "               show = True).add_to(m)\n",
    "m"
   ]
  },
  {
   "cell_type": "code",
   "execution_count": null,
   "metadata": {},
   "outputs": [],
   "source": []
  }
 ],
 "metadata": {
  "kernelspec": {
   "display_name": "Python 3",
   "language": "python",
   "name": "python3"
  },
  "language_info": {
   "codemirror_mode": {
    "name": "ipython",
    "version": 3
   },
   "file_extension": ".py",
   "mimetype": "text/x-python",
   "name": "python",
   "nbconvert_exporter": "python",
   "pygments_lexer": "ipython3",
   "version": "3.7.6"
  }
 },
 "nbformat": 4,
 "nbformat_minor": 4
}
