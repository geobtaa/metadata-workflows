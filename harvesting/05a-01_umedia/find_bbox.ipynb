{
 "cells": [
  {
   "cell_type": "markdown",
   "metadata": {},
   "source": [
    "## Find Missing Bounding Box for UMedia Maps Metadata\n",
    "\n",
    "If you have already got the metadata CSV file after running the `harvest.py` and found the **Bounding Box** field are empty for all records, you may need this script to help you find those missing Bounding Boxes. However, if you can find the Bounding Box values, then just igonore this script.\n",
    "\n",
    "> Original created on Dec 1, 2020 by Gene Cheng\n",
    "\n",
    "> Updated on May 1st, 2021 by Gene Cheng\n",
    "\n",
    "> Updated on Nov 8th, 2021 by Gene Cheng\n",
    "\n",
    "> Updated on Nov 22th, 2021 by Gene Cheng"
   ]
  },
  {
   "cell_type": "markdown",
   "metadata": {},
   "source": [
    "### STEP 1. Go and Download the Lookup Sheet\n",
    "\n",
    "In order to find the bounding box, we need to download a sheet which may includes both **Identifier** and **Coordinate** fields for the maps you harvested just now. Here's the [link](https://docs.google.com/spreadsheets/d/1A2MxmWxQ31_aDpxYQ5WSS9WcuoGdLGa9MOJWF-M7q6U/edit#gid=837746637) to a spreadsheet from Map Library and you can find there are more than one sheets.\n",
    "\n",
    "Usually, I will copy some random `Identifiers` from the metadata CSV and use the **Find and Replace** tool from Google Sheet to search for these Identifiers among all exsiting sheets, and the one which contains these Identifiers is the sheet you need to download next. These spreadsheets are updated frequently, so you may need to download right before you execute this script.\n",
    "\n",
    "After you download, please make sure to move it into the current directory and rename it to `bbox_lookup.csv` instead.\n"
   ]
  },
  {
   "cell_type": "markdown",
   "metadata": {},
   "source": [
    "### STEP 2. Read the Lookup Sheet\n",
    "\n",
    "Since we only need the **System Identifier** and the **Coordinates** fields from the lookup sheet, So we can first find the index of these two columns before reading the file by `index()`.\n",
    "\n",
    "Then, read and extract these two fields only. Some values may have leading or trailing spaces, so that we need to use the `strip()` to remove them before store into a dictionary."
   ]
  },
  {
   "cell_type": "code",
   "execution_count": 32,
   "metadata": {},
   "outputs": [],
   "source": [
    "import csv\n",
    "import re"
   ]
  },
  {
   "cell_type": "code",
   "execution_count": 33,
   "metadata": {},
   "outputs": [],
   "source": [
    "bbox_lookup = {}\n",
    "with open('bbox_lookup_2.csv') as fr:\n",
    "    reader = csv.reader(fr)\n",
    "    fields = next(reader)\n",
    "    ID_index = fields.index('SYSTEM IDENTIFIER')\n",
    "    coords_index = fields.index('Coordinates')\n",
    "    for row in reader:\n",
    "        ID = row[ID_index].strip()\n",
    "        coords = row[coords_index].strip()\n",
    "        bbox_lookup[ID] = coords"
   ]
  },
  {
   "cell_type": "markdown",
   "metadata": {},
   "source": [
    "### STEP 3. Clean Data\n",
    "\n",
    "This step might be the most important process through the whole script, since the coordinates values from the lookup sheet are 2 different formats of **Degree, Minute, Second** coordinates concatenated together which represent the same coordinates order by **West, East, North and South**. For example: `W0931944 W0931137 N0450304 N0445324; (W 93°19\\'44\"--W 93°11\\'37\"/N 45°03\\'04\"--N 44°53\\'24\")` \n",
    "\n",
    "So first of all, we will use the `clean_coords()` function to choose the first format`W0931944 W0931137 N0450304 N0445324` and separate them into `w,e,n,s` individually. \n",
    "\n"
   ]
  },
  {
   "cell_type": "code",
   "execution_count": 34,
   "metadata": {},
   "outputs": [],
   "source": [
    "# Select the first format of dms\n",
    "# Separate into four coordiantes\n",
    "def clean_data(val):\n",
    "    coords = val.split(';')[0]\n",
    "    coordlist = coords.split(' ')\n",
    "    return coordlist\n"
   ]
  },
  {
   "cell_type": "markdown",
   "metadata": {},
   "source": [
    "Then, we will continue using the `parse_dms()` function to parse each coordinate into **Direction, Degree, Minute and Second** separately. Take the coordinate `W0931944` as an example, the first letter represents the **Direction**, the next three letters represent the **3-digit Degree**, the following two letters represent the **2-digit Minute** and the last two letters stand for the **2-digit Second**\n"
   ]
  },
  {
   "cell_type": "code",
   "execution_count": 35,
   "metadata": {},
   "outputs": [],
   "source": [
    "# Parse a DMS coordinate into different parts: direction, Degree, Minute, Second\n",
    "def parse_dms(coord):\n",
    "    dir = coord[0]\n",
    "    deg = coord[1:4]\n",
    "    min = coord[4:6]\n",
    "    sec = coord[6:]\n",
    "    return (dir, deg, min, sec)\n"
   ]
  },
  {
   "cell_type": "markdown",
   "metadata": {},
   "source": [
    "Last, convert the coordinate from **Degree,Minute,Second** to **Decimal Degree** with 4 digits after decimal point."
   ]
  },
  {
   "cell_type": "code",
   "execution_count": 36,
   "metadata": {},
   "outputs": [],
   "source": [
    "# Convert a coordinate from DMS format to Decimal Degree\n",
    "def dms2dd(parsed_dms):\n",
    "    (direction, degree, minute, second) = parsed_dms\n",
    "    dd = float(degree) + float(minute)/60 + float(second)/(60*60)\n",
    "    if direction == 'S' or direction == 'W':\n",
    "        dd *= -1\n",
    "    return str(round(dd,4))\n",
    "    "
   ]
  },
  {
   "cell_type": "code",
   "execution_count": 37,
   "metadata": {
    "scrolled": false
   },
   "outputs": [
    {
     "ename": "ValueError",
     "evalue": "could not convert string to float: ''",
     "output_type": "error",
     "traceback": [
      "\u001b[0;31m---------------------------------------------------------------------------\u001b[0m",
      "\u001b[0;31mValueError\u001b[0m                                Traceback (most recent call last)",
      "Input \u001b[0;32mIn [37]\u001b[0m, in \u001b[0;36m<cell line: 2>\u001b[0;34m()\u001b[0m\n\u001b[1;32m      4\u001b[0m dds \u001b[38;5;241m=\u001b[39m []\n\u001b[1;32m      5\u001b[0m \u001b[38;5;28;01mfor\u001b[39;00m coord \u001b[38;5;129;01min\u001b[39;00m clean_data(coords):\n\u001b[0;32m----> 6\u001b[0m     dd \u001b[38;5;241m=\u001b[39m \u001b[43mdms2dd\u001b[49m\u001b[43m(\u001b[49m\u001b[43mparse_dms\u001b[49m\u001b[43m(\u001b[49m\u001b[43mcoord\u001b[49m\u001b[43m)\u001b[49m\u001b[43m)\u001b[49m\n\u001b[1;32m      7\u001b[0m     dds\u001b[38;5;241m.\u001b[39mappend(dd)\n\u001b[1;32m      9\u001b[0m \u001b[38;5;28;01mif\u001b[39;00m \u001b[38;5;28mlen\u001b[39m(dds) \u001b[38;5;241m==\u001b[39m \u001b[38;5;241m4\u001b[39m:\n",
      "Input \u001b[0;32mIn [36]\u001b[0m, in \u001b[0;36mdms2dd\u001b[0;34m(parsed_dms)\u001b[0m\n\u001b[1;32m      2\u001b[0m \u001b[38;5;28;01mdef\u001b[39;00m \u001b[38;5;21mdms2dd\u001b[39m(parsed_dms):\n\u001b[1;32m      3\u001b[0m     (direction, degree, minute, second) \u001b[38;5;241m=\u001b[39m parsed_dms\n\u001b[0;32m----> 4\u001b[0m     dd \u001b[38;5;241m=\u001b[39m \u001b[38;5;28;43mfloat\u001b[39;49m\u001b[43m(\u001b[49m\u001b[43mdegree\u001b[49m\u001b[43m)\u001b[49m \u001b[38;5;241m+\u001b[39m \u001b[38;5;28mfloat\u001b[39m(minute)\u001b[38;5;241m/\u001b[39m\u001b[38;5;241m60\u001b[39m \u001b[38;5;241m+\u001b[39m \u001b[38;5;28mfloat\u001b[39m(second)\u001b[38;5;241m/\u001b[39m(\u001b[38;5;241m60\u001b[39m\u001b[38;5;241m*\u001b[39m\u001b[38;5;241m60\u001b[39m)\n\u001b[1;32m      5\u001b[0m     \u001b[38;5;28;01mif\u001b[39;00m direction \u001b[38;5;241m==\u001b[39m \u001b[38;5;124m'\u001b[39m\u001b[38;5;124mS\u001b[39m\u001b[38;5;124m'\u001b[39m \u001b[38;5;129;01mor\u001b[39;00m direction \u001b[38;5;241m==\u001b[39m \u001b[38;5;124m'\u001b[39m\u001b[38;5;124mW\u001b[39m\u001b[38;5;124m'\u001b[39m:\n\u001b[1;32m      6\u001b[0m         dd \u001b[38;5;241m*\u001b[39m\u001b[38;5;241m=\u001b[39m \u001b[38;5;241m-\u001b[39m\u001b[38;5;241m1\u001b[39m\n",
      "\u001b[0;31mValueError\u001b[0m: could not convert string to float: ''"
     ]
    }
   ],
   "source": [
    "bbox_dd = {}\n",
    "for ID,coords in bbox_lookup.items():  \n",
    "    if ';' in coords:\n",
    "        dds = []\n",
    "        for coord in clean_data(coords):\n",
    "            dd = dms2dd(parse_dms(coord))\n",
    "            dds.append(dd)\n",
    "        \n",
    "        if len(dds) == 4:\n",
    "            [w, e, n, s] = dds\n",
    "            bbox = ','.join([w,s,e,n])\n",
    "        else:\n",
    "            bbox = ','.join(dds)\n",
    "    else:\n",
    "        bbox = ''\n",
    "  \n",
    "    \n",
    "    bbox_dd[ID] = bbox\n",
    "    "
   ]
  },
  {
   "cell_type": "code",
   "execution_count": null,
   "metadata": {},
   "outputs": [],
   "source": [
    "bbox_dd['UMN_ALMA:9973979307101701']"
   ]
  },
  {
   "cell_type": "markdown",
   "metadata": {},
   "source": [
    "### STEP 4. Find Missing BBOX for UMedia Maps\n",
    "\n",
    "Before running the following cells, please **edit** the first cell of Step 4 to the change the filename of the metadata CSV file from reaccession.\n",
    "\n",
    "If more than one csv files exist, change the filename and rerun the step 4&5 again."
   ]
  },
  {
   "cell_type": "code",
   "execution_count": null,
   "metadata": {},
   "outputs": [],
   "source": [
    "# Hello, please edit here !!\n",
    "filename = 'coordSheet.csv'"
   ]
  },
  {
   "cell_type": "code",
   "execution_count": null,
   "metadata": {},
   "outputs": [],
   "source": [
    "records = []\n",
    "with open(filename) as fr:\n",
    "    reader = csv.reader(fr)\n",
    "    fields = next(reader)\n",
    "    for row in reader:\n",
    "        records.append(row)"
   ]
  },
  {
   "cell_type": "code",
   "execution_count": null,
   "metadata": {},
   "outputs": [],
   "source": [
    "for record in records:\n",
    "    ID_index = fields.index('Identifier')\n",
    "    bbox_index = fields.index('Bounding Box')\n",
    "    ID = record[ID_index].strip()\n",
    "    if ID in bbox_dd:\n",
    "        record[bbox_index] = bbox_dd[ID]"
   ]
  },
  {
   "cell_type": "markdown",
   "metadata": {},
   "source": [
    "### STEP 5. Write a new CSV\n",
    "\n",
    "Write to a new CSV file with the same name to overwrite the previous one."
   ]
  },
  {
   "cell_type": "code",
   "execution_count": null,
   "metadata": {},
   "outputs": [],
   "source": [
    "with open(filename, 'w') as fw:\n",
    "    writer = csv.writer(fw)\n",
    "    writer.writerow(fields)\n",
    "    writer.writerows(records)"
   ]
  },
  {
   "cell_type": "code",
   "execution_count": null,
   "metadata": {},
   "outputs": [],
   "source": []
  }
 ],
 "metadata": {
  "kernelspec": {
   "display_name": "Python 3 (ipykernel)",
   "language": "python",
   "name": "python3"
  },
  "language_info": {
   "codemirror_mode": {
    "name": "ipython",
    "version": 3
   },
   "file_extension": ".py",
   "mimetype": "text/x-python",
   "name": "python",
   "nbconvert_exporter": "python",
   "pygments_lexer": "ipython3",
   "version": "3.10.5"
  }
 },
 "nbformat": 4,
 "nbformat_minor": 2
}
