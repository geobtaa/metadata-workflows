{
 "cells": [
  {
   "cell_type": "code",
   "execution_count": null,
   "id": "ee5f021c",
   "metadata": {},
   "outputs": [],
   "source": [
    "import spacy\n",
    "import pandas as pd\n",
    "\n",
    "# Load English language model for spaCy\n",
    "nlp = spacy.load(\"en_core_web_sm\")\n",
    "\n",
    "# Define function to extract place names from a text\n",
    "def extract_place_names(text):\n",
    "    doc = nlp(text)\n",
    "    place_names = []\n",
    "    for ent in doc.ents:\n",
    "        if ent.label_ == \"GPE\": # GPE is the label for geopolitical entities, i.e. place names\n",
    "            place_names.append(ent.text)\n",
    "    return place_names\n",
    "\n",
    "# Read data from CSV file\n",
    "data = pd.read_csv(\"missing-spatial-coverage.csv\")\n",
    "\n",
    "# Extract place names from each title and description\n",
    "places = []\n",
    "for i, row in data.iterrows():\n",
    "    title = row[\"Title\"]\n",
    "    desc = row[\"Description\"]\n",
    "    place_names = extract_place_names(title)\n",
    "    if not place_names:\n",
    "        place_names = extract_place_names(desc)\n",
    "    places.append(\"|\".join(place_names))\n",
    "\n",
    "# Add the extracted places to the dataframe\n",
    "data[\"Place\"] = places\n",
    "\n",
    "# Save the results to a new CSV file\n",
    "data.to_csv(\"output.csv\", index=False)\n"
   ]
  }
 ],
 "metadata": {
  "kernelspec": {
   "display_name": "Python 3 (ipykernel)",
   "language": "python",
   "name": "python3"
  },
  "language_info": {
   "codemirror_mode": {
    "name": "ipython",
    "version": 3
   },
   "file_extension": ".py",
   "mimetype": "text/x-python",
   "name": "python",
   "nbconvert_exporter": "python",
   "pygments_lexer": "ipython3",
   "version": "3.8.16"
  }
 },
 "nbformat": 4,
 "nbformat_minor": 5
}
